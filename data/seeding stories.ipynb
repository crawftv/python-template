{
 "cells": [
  {
   "cell_type": "code",
   "execution_count": 1,
   "metadata": {},
   "outputs": [],
   "source": [
    "import sqlite3"
   ]
  },
  {
   "cell_type": "code",
   "execution_count": 2,
   "metadata": {},
   "outputs": [],
   "source": [
    "with sqlite3.connect(\"inbrain.db\") as conn:\n",
    "    conn.execute(\"CREATE TABLE stories (author text, title text, subtitle text, domain text, url text)\")"
   ]
  },
  {
   "cell_type": "code",
   "execution_count": 16,
   "metadata": {},
   "outputs": [],
   "source": [
    "with sqlite3.connect(\"inbrain.db\") as conn:\n",
    "    conn.execute(\"INSERT INTO stories VALUES (?,?,?,?,?)\", (\"Crawford\", \"Parameter & HyperParameter Tuning with Bayesian Optimization\", \"Getting Started with scikit-optimize and Gaussian Processes\", \"crawfordC.com\", \"https://book.crawfordc.com/blog-posts/hyper-parameter-blog-post\"))"
   ]
  },
  {
   "cell_type": "code",
   "execution_count": 17,
   "metadata": {},
   "outputs": [
    {
     "name": "stdout",
     "output_type": "stream",
     "text": [
      "[('Crawford', 'JavaScript, Jinja, & Flask', 'A guide to bringing JavaScript’s Power to your Flask app', 'crawfordC.com', 'https://book.crawfordc.com/blog-posts/flask-blog-post'), ('Crawford', 'git Help', 'SOlving common git problems', 'crawfordC.com', 'https://book.crawfordc.com/assorted-knowledge/git-help'), ('Crawford', 'Parameter & HyperParameter Tuning with Bayesian Optimization', 'Getting Started with scikit-optimize and Gaussian Processes', 'crawfordC.com', 'https://book.crawfordc.com/blog-posts/hyper-parameter-blog-post')]\n"
     ]
    }
   ],
   "source": [
    "with sqlite3.connect(\"file:inbrain.db?mode=ro\", uri=True) as conn:\n",
    "    c = conn.execute(\"SELECT * FROM stories ORDER BY RANDOM() LIMIT 3\")\n",
    "    print(c.fetchall())"
   ]
  },
  {
   "cell_type": "code",
   "execution_count": null,
   "metadata": {},
   "outputs": [],
   "source": []
  }
 ],
 "metadata": {
  "kernelspec": {
   "display_name": "Python 3",
   "language": "python",
   "name": "python3"
  },
  "language_info": {
   "codemirror_mode": {
    "name": "ipython",
    "version": 3
   },
   "file_extension": ".py",
   "mimetype": "text/x-python",
   "name": "python",
   "nbconvert_exporter": "python",
   "pygments_lexer": "ipython3",
   "version": "3.8.2"
  }
 },
 "nbformat": 4,
 "nbformat_minor": 4
}
