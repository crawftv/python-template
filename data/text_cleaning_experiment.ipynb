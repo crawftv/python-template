{
 "cells": [
  {
   "cell_type": "code",
   "execution_count": 23,
   "metadata": {},
   "outputs": [],
   "source": [
    "import os \n",
    "d = os.listdir(\"devto/\")"
   ]
  },
  {
   "cell_type": "code",
   "execution_count": 25,
   "metadata": {},
   "outputs": [],
   "source": [
    "import re\n",
    "dd = open(\"devto/\"+d[7],'r',encoding='utf-8')\n",
    "p = dd.read()"
   ]
  },
  {
   "cell_type": "code",
   "execution_count": 26,
   "metadata": {},
   "outputs": [],
   "source": [
    "def clean_page(page):\n",
    "    p = re.sub(r\" +\",\" \",page)\n",
    "    p = re.sub(r\"\\n \\n\",\"\\n\\n\",p)\n",
    "    p = re.sub(r\"\\n+\",\"\\n\",p)\n",
    "    p = p.replace(\"(\",\" ( \")\n",
    "    p = p.replace(\"\\n\",\"\")\n",
    "    return p"
   ]
  },
  {
   "cell_type": "code",
   "execution_count": 52,
   "metadata": {},
   "outputs": [
    {
     "name": "stdout",
     "output_type": "stream",
     "text": [
      "CPU times: user 18.6 s, sys: 30.3 s, total: 49 s\n",
      "Wall time: 16min 12s\n"
     ]
    }
   ],
   "source": [
    "%%time\n",
    "def clean_page(page):\n",
    "    p = re.sub(r\" +\",\" \",page)\n",
    "    p = re.sub(r\"\\n \\n\",\"\\n\\n\",p)\n",
    "    p = re.sub(r\"\\n+\",\"\\n\",p)\n",
    "    p = p.replace(\"(\",\" ( \")\n",
    "    p = p.replace(\"\\n\",\"\")\n",
    "    return p\n",
    "\n",
    "for i in d:\n",
    "    with open(f\"devto/{i}\",\"r\") as f:\n",
    "        p = f.read()\n",
    "        p = clean_page(p)\n",
    "    with open(f\"devto-clean/{i}\",\"w\") as ff:\n",
    "        ff.write(p)"
   ]
  },
  {
   "cell_type": "code",
   "execution_count": null,
   "metadata": {},
   "outputs": [],
   "source": []
  }
 ],
 "metadata": {
  "@webio": {
   "lastCommId": null,
   "lastKernelId": null
  },
  "kernelspec": {
   "display_name": "Python 3",
   "language": "python",
   "name": "python3"
  },
  "language_info": {
   "codemirror_mode": {
    "name": "ipython",
    "version": 3
   },
   "file_extension": ".py",
   "mimetype": "text/x-python",
   "name": "python",
   "nbconvert_exporter": "python",
   "pygments_lexer": "ipython3",
   "version": "3.8.2"
  }
 },
 "nbformat": 4,
 "nbformat_minor": 4
}
